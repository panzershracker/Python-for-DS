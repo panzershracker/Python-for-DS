{
 "cells": [
  {
   "cell_type": "code",
   "execution_count": 446,
   "metadata": {},
   "outputs": [],
   "source": [
    "from matplotlib import pyplot as plt\n",
    "from sklearn.model_selection import  train_test_split, GridSearchCV\n",
    "import matplotlib.style as style\n",
    "import numpy  as np\n",
    "import pandas as pd\n",
    "import warnings\n",
    "\n",
    "warnings.filterwarnings('ignore')\n",
    "\n",
    "style.use('fivethirtyeight')\n",
    "%matplotlib inline\n",
    "%config InlineBackend.figure_format = 'jpg'\n",
    "pd.set_option('display.max_columns', 100)"
   ]
  },
  {
   "cell_type": "code",
   "execution_count": 447,
   "metadata": {},
   "outputs": [],
   "source": [
    "df = pd.read_csv('train.csv')"
   ]
  },
  {
   "cell_type": "code",
   "execution_count": 448,
   "metadata": {},
   "outputs": [],
   "source": [
    "test = pd.read_csv('test.csv')"
   ]
  },
  {
   "cell_type": "code",
   "execution_count": 449,
   "metadata": {},
   "outputs": [],
   "source": [
    "stored_cols = df.columns"
   ]
  },
  {
   "cell_type": "markdown",
   "metadata": {},
   "source": [
    "### Функции перевода названия признаков в верхний регистр и обратно"
   ]
  },
  {
   "cell_type": "code",
   "execution_count": 450,
   "metadata": {},
   "outputs": [],
   "source": [
    "def lowercase_cols(df):\n",
    "    \n",
    "    df.columns = map(str.lower, df.columns)\n",
    "    \n",
    "    return df"
   ]
  },
  {
   "cell_type": "code",
   "execution_count": 451,
   "metadata": {},
   "outputs": [],
   "source": [
    "def upperrcase_cols(df):\n",
    "    \n",
    "    df = df.rename(index=str, columns={'id':'Id', 'price':'Price'})\n",
    "    \n",
    "    return df"
   ]
  },
  {
   "cell_type": "code",
   "execution_count": 452,
   "metadata": {},
   "outputs": [],
   "source": [
    "df = lowercase_cols(df)"
   ]
  },
  {
   "cell_type": "code",
   "execution_count": 453,
   "metadata": {},
   "outputs": [],
   "source": [
    "test = lowercase_cols(test)"
   ]
  },
  {
   "cell_type": "code",
   "execution_count": 454,
   "metadata": {},
   "outputs": [
    {
     "data": {
      "text/html": [
       "<div>\n",
       "<style scoped>\n",
       "    .dataframe tbody tr th:only-of-type {\n",
       "        vertical-align: middle;\n",
       "    }\n",
       "\n",
       "    .dataframe tbody tr th {\n",
       "        vertical-align: top;\n",
       "    }\n",
       "\n",
       "    .dataframe thead th {\n",
       "        text-align: right;\n",
       "    }\n",
       "</style>\n",
       "<table border=\"1\" class=\"dataframe\">\n",
       "  <thead>\n",
       "    <tr style=\"text-align: right;\">\n",
       "      <th></th>\n",
       "      <th>id</th>\n",
       "      <th>districtid</th>\n",
       "      <th>rooms</th>\n",
       "      <th>square</th>\n",
       "      <th>lifesquare</th>\n",
       "      <th>kitchensquare</th>\n",
       "      <th>floor</th>\n",
       "      <th>housefloor</th>\n",
       "      <th>houseyear</th>\n",
       "      <th>ecology_1</th>\n",
       "      <th>ecology_2</th>\n",
       "      <th>ecology_3</th>\n",
       "      <th>social_1</th>\n",
       "      <th>social_2</th>\n",
       "      <th>social_3</th>\n",
       "      <th>healthcare_1</th>\n",
       "      <th>helthcare_2</th>\n",
       "      <th>shops_1</th>\n",
       "      <th>shops_2</th>\n",
       "      <th>price</th>\n",
       "    </tr>\n",
       "  </thead>\n",
       "  <tbody>\n",
       "    <tr>\n",
       "      <th>0</th>\n",
       "      <td>14038</td>\n",
       "      <td>35</td>\n",
       "      <td>2.0</td>\n",
       "      <td>47.981561</td>\n",
       "      <td>29.442751</td>\n",
       "      <td>6.0</td>\n",
       "      <td>7</td>\n",
       "      <td>9.0</td>\n",
       "      <td>1969</td>\n",
       "      <td>0.089040</td>\n",
       "      <td>B</td>\n",
       "      <td>B</td>\n",
       "      <td>33</td>\n",
       "      <td>7976</td>\n",
       "      <td>5</td>\n",
       "      <td>NaN</td>\n",
       "      <td>0</td>\n",
       "      <td>11</td>\n",
       "      <td>B</td>\n",
       "      <td>184966.930730</td>\n",
       "    </tr>\n",
       "    <tr>\n",
       "      <th>1</th>\n",
       "      <td>15053</td>\n",
       "      <td>41</td>\n",
       "      <td>3.0</td>\n",
       "      <td>65.683640</td>\n",
       "      <td>40.049543</td>\n",
       "      <td>8.0</td>\n",
       "      <td>7</td>\n",
       "      <td>9.0</td>\n",
       "      <td>1978</td>\n",
       "      <td>0.000070</td>\n",
       "      <td>B</td>\n",
       "      <td>B</td>\n",
       "      <td>46</td>\n",
       "      <td>10309</td>\n",
       "      <td>1</td>\n",
       "      <td>240.0</td>\n",
       "      <td>1</td>\n",
       "      <td>16</td>\n",
       "      <td>B</td>\n",
       "      <td>300009.450063</td>\n",
       "    </tr>\n",
       "    <tr>\n",
       "      <th>2</th>\n",
       "      <td>4765</td>\n",
       "      <td>53</td>\n",
       "      <td>2.0</td>\n",
       "      <td>44.947953</td>\n",
       "      <td>29.197612</td>\n",
       "      <td>0.0</td>\n",
       "      <td>8</td>\n",
       "      <td>12.0</td>\n",
       "      <td>1968</td>\n",
       "      <td>0.049637</td>\n",
       "      <td>B</td>\n",
       "      <td>B</td>\n",
       "      <td>34</td>\n",
       "      <td>7759</td>\n",
       "      <td>0</td>\n",
       "      <td>229.0</td>\n",
       "      <td>1</td>\n",
       "      <td>3</td>\n",
       "      <td>B</td>\n",
       "      <td>220925.908524</td>\n",
       "    </tr>\n",
       "  </tbody>\n",
       "</table>\n",
       "</div>"
      ],
      "text/plain": [
       "      id  districtid  rooms     square  lifesquare  kitchensquare  floor  \\\n",
       "0  14038          35    2.0  47.981561   29.442751            6.0      7   \n",
       "1  15053          41    3.0  65.683640   40.049543            8.0      7   \n",
       "2   4765          53    2.0  44.947953   29.197612            0.0      8   \n",
       "\n",
       "   housefloor  houseyear  ecology_1 ecology_2 ecology_3  social_1  social_2  \\\n",
       "0         9.0       1969   0.089040         B         B        33      7976   \n",
       "1         9.0       1978   0.000070         B         B        46     10309   \n",
       "2        12.0       1968   0.049637         B         B        34      7759   \n",
       "\n",
       "   social_3  healthcare_1  helthcare_2  shops_1 shops_2          price  \n",
       "0         5           NaN            0       11       B  184966.930730  \n",
       "1         1         240.0            1       16       B  300009.450063  \n",
       "2         0         229.0            1        3       B  220925.908524  "
      ]
     },
     "execution_count": 454,
     "metadata": {},
     "output_type": "execute_result"
    }
   ],
   "source": [
    "df.head(3)"
   ]
  },
  {
   "cell_type": "markdown",
   "metadata": {},
   "source": [
    "### Разделение датафрейма на тренировочный и валидационный"
   ]
  },
  {
   "cell_type": "code",
   "execution_count": 455,
   "metadata": {},
   "outputs": [],
   "source": [
    "train, valid = train_test_split(df, test_size=0.3, random_state=42)"
   ]
  },
  {
   "cell_type": "code",
   "execution_count": 456,
   "metadata": {},
   "outputs": [
    {
     "data": {
      "text/plain": [
       "((7000, 20), (3000, 20), (5000, 19))"
      ]
     },
     "execution_count": 456,
     "metadata": {},
     "output_type": "execute_result"
    }
   ],
   "source": [
    "train.shape, valid.shape, test.shape"
   ]
  },
  {
   "cell_type": "markdown",
   "metadata": {},
   "source": [
    "### Проверка и корректировка выбросов вручную"
   ]
  },
  {
   "cell_type": "markdown",
   "metadata": {},
   "source": [
    "#### rooms"
   ]
  },
  {
   "cell_type": "code",
   "execution_count": 457,
   "metadata": {},
   "outputs": [
    {
     "data": {
      "text/html": [
       "<div>\n",
       "<style scoped>\n",
       "    .dataframe tbody tr th:only-of-type {\n",
       "        vertical-align: middle;\n",
       "    }\n",
       "\n",
       "    .dataframe tbody tr th {\n",
       "        vertical-align: top;\n",
       "    }\n",
       "\n",
       "    .dataframe thead th {\n",
       "        text-align: right;\n",
       "    }\n",
       "</style>\n",
       "<table border=\"1\" class=\"dataframe\">\n",
       "  <thead>\n",
       "    <tr style=\"text-align: right;\">\n",
       "      <th></th>\n",
       "      <th>id</th>\n",
       "      <th>districtid</th>\n",
       "      <th>rooms</th>\n",
       "      <th>square</th>\n",
       "      <th>lifesquare</th>\n",
       "      <th>kitchensquare</th>\n",
       "      <th>floor</th>\n",
       "      <th>housefloor</th>\n",
       "      <th>houseyear</th>\n",
       "      <th>ecology_1</th>\n",
       "      <th>ecology_2</th>\n",
       "      <th>ecology_3</th>\n",
       "      <th>social_1</th>\n",
       "      <th>social_2</th>\n",
       "      <th>social_3</th>\n",
       "      <th>healthcare_1</th>\n",
       "      <th>helthcare_2</th>\n",
       "      <th>shops_1</th>\n",
       "      <th>shops_2</th>\n",
       "      <th>price</th>\n",
       "    </tr>\n",
       "  </thead>\n",
       "  <tbody>\n",
       "    <tr>\n",
       "      <th>9069</th>\n",
       "      <td>14604</td>\n",
       "      <td>23</td>\n",
       "      <td>1.0</td>\n",
       "      <td>41.681380</td>\n",
       "      <td>22.796166</td>\n",
       "      <td>8.0</td>\n",
       "      <td>14</td>\n",
       "      <td>17.0</td>\n",
       "      <td>2015</td>\n",
       "      <td>0.075779</td>\n",
       "      <td>B</td>\n",
       "      <td>B</td>\n",
       "      <td>6</td>\n",
       "      <td>1437</td>\n",
       "      <td>3</td>\n",
       "      <td>NaN</td>\n",
       "      <td>0</td>\n",
       "      <td>2</td>\n",
       "      <td>B</td>\n",
       "      <td>88504.384965</td>\n",
       "    </tr>\n",
       "    <tr>\n",
       "      <th>2603</th>\n",
       "      <td>5621</td>\n",
       "      <td>23</td>\n",
       "      <td>3.0</td>\n",
       "      <td>163.495333</td>\n",
       "      <td>161.504222</td>\n",
       "      <td>12.0</td>\n",
       "      <td>5</td>\n",
       "      <td>3.0</td>\n",
       "      <td>1977</td>\n",
       "      <td>0.014073</td>\n",
       "      <td>B</td>\n",
       "      <td>B</td>\n",
       "      <td>2</td>\n",
       "      <td>475</td>\n",
       "      <td>0</td>\n",
       "      <td>NaN</td>\n",
       "      <td>0</td>\n",
       "      <td>0</td>\n",
       "      <td>B</td>\n",
       "      <td>207007.956663</td>\n",
       "    </tr>\n",
       "  </tbody>\n",
       "</table>\n",
       "</div>"
      ],
      "text/plain": [
       "         id  districtid  rooms      square  lifesquare  kitchensquare  floor  \\\n",
       "9069  14604          23    1.0   41.681380   22.796166            8.0     14   \n",
       "2603   5621          23    3.0  163.495333  161.504222           12.0      5   \n",
       "\n",
       "      housefloor  houseyear  ecology_1 ecology_2 ecology_3  social_1  \\\n",
       "9069        17.0       2015   0.075779         B         B         6   \n",
       "2603         3.0       1977   0.014073         B         B         2   \n",
       "\n",
       "      social_2  social_3  healthcare_1  helthcare_2  shops_1 shops_2  \\\n",
       "9069      1437         3           NaN            0        2       B   \n",
       "2603       475         0           NaN            0        0       B   \n",
       "\n",
       "              price  \n",
       "9069   88504.384965  \n",
       "2603  207007.956663  "
      ]
     },
     "execution_count": 457,
     "metadata": {},
     "output_type": "execute_result"
    }
   ],
   "source": [
    "train.head(2)"
   ]
  },
  {
   "cell_type": "code",
   "execution_count": 458,
   "metadata": {},
   "outputs": [
    {
     "data": {
      "text/plain": [
       "2.0     2725\n",
       "1.0     2594\n",
       "3.0     1558\n",
       "4.0      103\n",
       "5.0       12\n",
       "0.0        5\n",
       "19.0       1\n",
       "10.0       1\n",
       "6.0        1\n",
       "Name: rooms, dtype: int64"
      ]
     },
     "execution_count": 458,
     "metadata": {},
     "output_type": "execute_result"
    }
   ],
   "source": [
    "train['rooms'].value_counts()"
   ]
  },
  {
   "cell_type": "code",
   "execution_count": 459,
   "metadata": {},
   "outputs": [
    {
     "data": {
      "text/html": [
       "<div>\n",
       "<style scoped>\n",
       "    .dataframe tbody tr th:only-of-type {\n",
       "        vertical-align: middle;\n",
       "    }\n",
       "\n",
       "    .dataframe tbody tr th {\n",
       "        vertical-align: top;\n",
       "    }\n",
       "\n",
       "    .dataframe thead th {\n",
       "        text-align: right;\n",
       "    }\n",
       "</style>\n",
       "<table border=\"1\" class=\"dataframe\">\n",
       "  <thead>\n",
       "    <tr style=\"text-align: right;\">\n",
       "      <th>rooms</th>\n",
       "      <th>0.0</th>\n",
       "      <th>1.0</th>\n",
       "      <th>2.0</th>\n",
       "      <th>3.0</th>\n",
       "      <th>4.0</th>\n",
       "      <th>5.0</th>\n",
       "      <th>6.0</th>\n",
       "      <th>10.0</th>\n",
       "      <th>19.0</th>\n",
       "    </tr>\n",
       "  </thead>\n",
       "  <tbody>\n",
       "    <tr>\n",
       "      <th>square</th>\n",
       "      <td>49.483501</td>\n",
       "      <td>40.352571</td>\n",
       "      <td>55.950652</td>\n",
       "      <td>77.44389</td>\n",
       "      <td>98.686703</td>\n",
       "      <td>111.185575</td>\n",
       "      <td>59.414334</td>\n",
       "      <td>59.056975</td>\n",
       "      <td>42.006046</td>\n",
       "    </tr>\n",
       "  </tbody>\n",
       "</table>\n",
       "</div>"
      ],
      "text/plain": [
       "rooms        0.0        1.0        2.0       3.0        4.0         5.0   \\\n",
       "square  49.483501  40.352571  55.950652  77.44389  98.686703  111.185575   \n",
       "\n",
       "rooms        6.0        10.0       19.0  \n",
       "square  59.414334  59.056975  42.006046  "
      ]
     },
     "execution_count": 459,
     "metadata": {},
     "output_type": "execute_result"
    }
   ],
   "source": [
    "train.groupby('rooms')[['square']].median().T"
   ]
  },
  {
   "cell_type": "code",
   "execution_count": 460,
   "metadata": {},
   "outputs": [],
   "source": [
    "train.loc[train['rooms'] == 19, 'rooms'] = 1\n",
    "train.loc[train['rooms'] == 10, 'rooms'] = 2\n",
    "train.loc[train['rooms'] == 6, 'rooms'] = 2\n",
    "train.loc[train['id'] == 456, 'rooms'] = 3\n",
    "train.loc[train['id'] == 12638, 'rooms'] = 5\n",
    "train.loc[train['id'] == 7317, 'rooms'] = 1\n",
    "train.loc[train['id'] == 770, 'rooms'] = 2"
   ]
  },
  {
   "cell_type": "code",
   "execution_count": 461,
   "metadata": {},
   "outputs": [],
   "source": [
    "valid.loc[valid['rooms'] == 10, 'rooms'] = 2\n",
    "valid.loc[valid['id'] == 3159, 'rooms'] = 1\n",
    "valid.loc[valid['id'] == 9443, 'rooms'] = 3"
   ]
  },
  {
   "cell_type": "code",
   "execution_count": 462,
   "metadata": {},
   "outputs": [],
   "source": [
    "test.loc[test['rooms'] == 17, 'rooms'] = 2\n",
    "test.loc[test['id'] == 3343, 'rooms'] = 5\n",
    "test.loc[test['id'] == 10729, 'rooms'] = 3\n",
    "test.loc[test['id'] == 6060, 'rooms'] = 4"
   ]
  },
  {
   "cell_type": "markdown",
   "metadata": {},
   "source": [
    "#### square"
   ]
  },
  {
   "cell_type": "code",
   "execution_count": 463,
   "metadata": {},
   "outputs": [
    {
     "data": {
      "text/plain": [
       "<matplotlib.legend.Legend at 0x23839fa5d30>"
      ]
     },
     "execution_count": 463,
     "metadata": {},
     "output_type": "execute_result"
    },
    {
     "data": {
      "image/jpeg": "[encoded data removed]",
      "text/plain": [
       "<Figure size 432x288 with 1 Axes>"
      ]
     },
     "metadata": {
      "needs_background": "light"
     },
     "output_type": "display_data"
    }
   ],
   "source": [
    "plt.scatter(train['square'], train['rooms'], c='b', alpha=0.5, label='train')\n",
    "plt.scatter(valid['square'], valid['rooms'], c='r', alpha=0.5, label='valid')\n",
    "plt.scatter(test['square'], test['rooms'], c='g', alpha=0.5, label='test')\n",
    "\n",
    "\n",
    "plt.legend()"
   ]
  },
  {
   "cell_type": "code",
   "execution_count": 464,
   "metadata": {},
   "outputs": [],
   "source": [
    "train.loc[train['id'] == 28, 'square'] = 55.95\n",
    "train.loc[train['id'] == 2307, 'square'] = 40.35"
   ]
  },
  {
   "cell_type": "code",
   "execution_count": 465,
   "metadata": {},
   "outputs": [],
   "source": [
    "valid.loc[valid['square'] >500, 'square'] = 64"
   ]
  },
  {
   "cell_type": "markdown",
   "metadata": {},
   "source": [
    "#### lifesquare"
   ]
  },
  {
   "cell_type": "code",
   "execution_count": 466,
   "metadata": {},
   "outputs": [
    {
     "data": {
      "text/plain": [
       "<matplotlib.legend.Legend at 0x23843e1aef0>"
      ]
     },
     "execution_count": 466,
     "metadata": {},
     "output_type": "execute_result"
    },
    {
     "data": {
      "image/jpeg": "[encoded data removed]",
      "text/plain": [
       "<Figure size 432x288 with 1 Axes>"
      ]
     },
     "metadata": {
      "needs_background": "light"
     },
     "output_type": "display_data"
    }
   ],
   "source": [
    "plt.scatter(train['lifesquare'], train['rooms'], c='b', alpha=0.5, label='train')\n",
    "plt.scatter(valid['lifesquare'], valid['rooms'], c='r', alpha=0.5, label='valid')\n",
    "plt.scatter(test['lifesquare'], test['rooms'], c='g', alpha=0.5, label='test')\n",
    "\n",
    "\n",
    "plt.legend()"
   ]
  },
  {
   "cell_type": "code",
   "execution_count": 467,
   "metadata": {},
   "outputs": [
    {
     "data": {
      "text/html": [
       "<div>\n",
       "<style scoped>\n",
       "    .dataframe tbody tr th:only-of-type {\n",
       "        vertical-align: middle;\n",
       "    }\n",
       "\n",
       "    .dataframe tbody tr th {\n",
       "        vertical-align: top;\n",
       "    }\n",
       "\n",
       "    .dataframe thead th {\n",
       "        text-align: right;\n",
       "    }\n",
       "</style>\n",
       "<table border=\"1\" class=\"dataframe\">\n",
       "  <thead>\n",
       "    <tr style=\"text-align: right;\">\n",
       "      <th>rooms</th>\n",
       "      <th>0.0</th>\n",
       "      <th>1.0</th>\n",
       "      <th>2.0</th>\n",
       "      <th>3.0</th>\n",
       "      <th>4.0</th>\n",
       "      <th>5.0</th>\n",
       "    </tr>\n",
       "  </thead>\n",
       "  <tbody>\n",
       "    <tr>\n",
       "      <th>lifesquare</th>\n",
       "      <td>0.873147</td>\n",
       "      <td>21.712081</td>\n",
       "      <td>32.581594</td>\n",
       "      <td>47.070342</td>\n",
       "      <td>65.087349</td>\n",
       "      <td>76.057079</td>\n",
       "    </tr>\n",
       "  </tbody>\n",
       "</table>\n",
       "</div>"
      ],
      "text/plain": [
       "rooms            0.0        1.0        2.0        3.0        4.0        5.0\n",
       "lifesquare  0.873147  21.712081  32.581594  47.070342  65.087349  76.057079"
      ]
     },
     "execution_count": 467,
     "metadata": {},
     "output_type": "execute_result"
    }
   ],
   "source": [
    "train.groupby('rooms')[['lifesquare']].median().T"
   ]
  },
  {
   "cell_type": "code",
   "execution_count": 468,
   "metadata": {},
   "outputs": [],
   "source": [
    "train.loc[train['lifesquare'] > 6000, 'lifesquare'] = 47.1\n",
    "train.loc[train['id'] == 15886, 'lifesquare'] = 47.1\n",
    "train.loc[train['id'] == 2307, 'lifesquare'] = 21.7"
   ]
  },
  {
   "cell_type": "code",
   "execution_count": 469,
   "metadata": {},
   "outputs": [],
   "source": [
    "valid.loc[valid['id'] == 11602, 'lifesquare'] = 32.58\n",
    "valid.loc[valid['id'] == 14990, 'lifesquare'] = 32.58"
   ]
  },
  {
   "cell_type": "code",
   "execution_count": 470,
   "metadata": {},
   "outputs": [],
   "source": [
    "test.loc[test['id'] == 11533, 'lifesquare'] = 30.3"
   ]
  },
  {
   "cell_type": "markdown",
   "metadata": {},
   "source": [
    "#### kitchensquare"
   ]
  },
  {
   "cell_type": "code",
   "execution_count": 471,
   "metadata": {},
   "outputs": [
    {
     "data": {
      "text/plain": [
       "<matplotlib.legend.Legend at 0x23843e95518>"
      ]
     },
     "execution_count": 471,
     "metadata": {},
     "output_type": "execute_result"
    },
    {
     "data": {
      "image/jpeg": "[encoded data removed]",
      "text/plain": [
       "<Figure size 432x288 with 1 Axes>"
      ]
     },
     "metadata": {
      "needs_background": "light"
     },
     "output_type": "display_data"
    }
   ],
   "source": [
    "plt.scatter(train['kitchensquare'], train['square'], c='b', alpha=0.5, label='train')\n",
    "plt.scatter(valid['kitchensquare'], valid['square'], c='r', alpha=0.5, label='valid')\n",
    "plt.scatter(test['kitchensquare'], test['square'], c='g', alpha=0.5, label='test')\n",
    "\n",
    "\n",
    "plt.legend()"
   ]
  },
  {
   "cell_type": "code",
   "execution_count": 472,
   "metadata": {},
   "outputs": [
    {
     "data": {
      "text/html": [
       "<div>\n",
       "<style scoped>\n",
       "    .dataframe tbody tr th:only-of-type {\n",
       "        vertical-align: middle;\n",
       "    }\n",
       "\n",
       "    .dataframe tbody tr th {\n",
       "        vertical-align: top;\n",
       "    }\n",
       "\n",
       "    .dataframe thead th {\n",
       "        text-align: right;\n",
       "    }\n",
       "</style>\n",
       "<table border=\"1\" class=\"dataframe\">\n",
       "  <thead>\n",
       "    <tr style=\"text-align: right;\">\n",
       "      <th>rooms</th>\n",
       "      <th>0.0</th>\n",
       "      <th>1.0</th>\n",
       "      <th>2.0</th>\n",
       "      <th>3.0</th>\n",
       "      <th>4.0</th>\n",
       "      <th>5.0</th>\n",
       "    </tr>\n",
       "  </thead>\n",
       "  <tbody>\n",
       "    <tr>\n",
       "      <th>kitchensquare</th>\n",
       "      <td>0.0</td>\n",
       "      <td>6.0</td>\n",
       "      <td>6.0</td>\n",
       "      <td>7.0</td>\n",
       "      <td>8.0</td>\n",
       "      <td>7.0</td>\n",
       "    </tr>\n",
       "  </tbody>\n",
       "</table>\n",
       "</div>"
      ],
      "text/plain": [
       "rooms          0.0  1.0  2.0  3.0  4.0  5.0\n",
       "kitchensquare  0.0  6.0  6.0  7.0  8.0  7.0"
      ]
     },
     "execution_count": 472,
     "metadata": {},
     "output_type": "execute_result"
    }
   ],
   "source": [
    "train.groupby('rooms')[['kitchensquare']].median().T"
   ]
  },
  {
   "cell_type": "code",
   "execution_count": 473,
   "metadata": {},
   "outputs": [],
   "source": [
    "train.loc[(train['kitchensquare'] > 20) & (train['rooms'] == 1), 'kitchensquare'] = 6\n",
    "train.loc[(train['kitchensquare'] > 20) & (train['rooms'] == 2), 'kitchensquare'] = 6\n",
    "train.loc[(train['kitchensquare'] > 20) & (train['rooms'] == 3), 'kitchensquare'] = 7"
   ]
  },
  {
   "cell_type": "code",
   "execution_count": 474,
   "metadata": {},
   "outputs": [],
   "source": [
    "valid.loc[valid['id'].isin([2371, 299, 4265]), 'kitchensquare'] = 6\n",
    "valid.loc[valid['id'].isin([448, 1315, 16781, 2271]), 'kitchensquare'] = 6\n",
    "valid.loc[valid['id'] == 4966, 'kitchensquare'] = 7\n"
   ]
  },
  {
   "cell_type": "code",
   "execution_count": 475,
   "metadata": {},
   "outputs": [],
   "source": [
    "test.loc[test['id'] == 14594, 'kitchensquare'] = 6.2\n",
    "test.loc[test['id'].isin([14594, 5428, 12612, 3194, 5199, 12640]), 'kitchensquare'] = 6\n",
    "test.loc[test['id'].isin([2249, 10662, 4483, 6568, 8015, 5254]), 'kitchensquare'] = 6\n",
    "test.loc[test['id'] == 5260, 'kitchensquare'] = 7\n",
    "test.loc[test['id'] == 3341, 'kitchensquare'] = 11"
   ]
  },
  {
   "cell_type": "markdown",
   "metadata": {},
   "source": [
    "#### floor"
   ]
  },
  {
   "cell_type": "code",
   "execution_count": 476,
   "metadata": {},
   "outputs": [
    {
     "data": {
      "text/plain": [
       "<matplotlib.legend.Legend at 0x23843f0e898>"
      ]
     },
     "execution_count": 476,
     "metadata": {},
     "output_type": "execute_result"
    },
    {
     "data": {
      "image/jpeg": "[encoded data removed]",
      "text/plain": [
       "<Figure size 432x288 with 1 Axes>"
      ]
     },
     "metadata": {
      "needs_background": "light"
     },
     "output_type": "display_data"
    }
   ],
   "source": [
    "plt.scatter(train['floor'], train['housefloor'], c='b', alpha=0.5, label='train')\n",
    "plt.scatter(valid['floor'], valid['housefloor'], c='r', alpha=0.5, label='valid')\n",
    "plt.scatter(test['floor'], test['housefloor'], c='g', alpha=0.5, label='test')\n",
    "\n",
    "\n",
    "plt.legend()"
   ]
  },
  {
   "cell_type": "code",
   "execution_count": 477,
   "metadata": {},
   "outputs": [],
   "source": [
    "train.loc[train['housefloor'] > 60, 'housefloor'] = train['housefloor'].median()"
   ]
  },
  {
   "cell_type": "code",
   "execution_count": 478,
   "metadata": {},
   "outputs": [],
   "source": [
    "test.loc[test['housefloor'] > 60, 'housefloor'] = test['housefloor'].median()\n",
    "test.loc[test['floor'] > 70, 'floor'] = 7"
   ]
  },
  {
   "cell_type": "markdown",
   "metadata": {},
   "source": [
    "#### houseyear"
   ]
  },
  {
   "cell_type": "code",
   "execution_count": 479,
   "metadata": {},
   "outputs": [
    {
     "data": {
      "text/plain": [
       "<matplotlib.legend.Legend at 0x23843f809e8>"
      ]
     },
     "execution_count": 479,
     "metadata": {},
     "output_type": "execute_result"
    },
    {
     "data": {
      "image/jpeg": "[encoded data removed]",
      "text/plain": [
       "<Figure size 432x288 with 1 Axes>"
      ]
     },
     "metadata": {
      "needs_background": "light"
     },
     "output_type": "display_data"
    }
   ],
   "source": [
    "plt.scatter(train['houseyear'], train['houseyear'], c='b', alpha=0.5, label='train')\n",
    "plt.scatter(valid['houseyear'], valid['houseyear'], c='r', alpha=0.5, label='valid')\n",
    "plt.scatter(test['houseyear'], test['houseyear'], c='g', alpha=0.5, label='test')\n",
    "\n",
    "\n",
    "plt.legend()"
   ]
  },
  {
   "cell_type": "code",
   "execution_count": 480,
   "metadata": {},
   "outputs": [
    {
     "data": {
      "text/html": [
       "<div>\n",
       "<style scoped>\n",
       "    .dataframe tbody tr th:only-of-type {\n",
       "        vertical-align: middle;\n",
       "    }\n",
       "\n",
       "    .dataframe tbody tr th {\n",
       "        vertical-align: top;\n",
       "    }\n",
       "\n",
       "    .dataframe thead th {\n",
       "        text-align: right;\n",
       "    }\n",
       "</style>\n",
       "<table border=\"1\" class=\"dataframe\">\n",
       "  <thead>\n",
       "    <tr style=\"text-align: right;\">\n",
       "      <th></th>\n",
       "      <th>id</th>\n",
       "      <th>districtid</th>\n",
       "      <th>rooms</th>\n",
       "      <th>square</th>\n",
       "      <th>lifesquare</th>\n",
       "      <th>kitchensquare</th>\n",
       "      <th>floor</th>\n",
       "      <th>housefloor</th>\n",
       "      <th>houseyear</th>\n",
       "      <th>ecology_1</th>\n",
       "      <th>ecology_2</th>\n",
       "      <th>ecology_3</th>\n",
       "      <th>social_1</th>\n",
       "      <th>social_2</th>\n",
       "      <th>social_3</th>\n",
       "      <th>healthcare_1</th>\n",
       "      <th>helthcare_2</th>\n",
       "      <th>shops_1</th>\n",
       "      <th>shops_2</th>\n",
       "      <th>price</th>\n",
       "    </tr>\n",
       "  </thead>\n",
       "  <tbody>\n",
       "    <tr>\n",
       "      <th>4189</th>\n",
       "      <td>11607</td>\n",
       "      <td>147</td>\n",
       "      <td>2.0</td>\n",
       "      <td>44.791836</td>\n",
       "      <td>28.360393</td>\n",
       "      <td>5.0</td>\n",
       "      <td>4</td>\n",
       "      <td>9.0</td>\n",
       "      <td>4968</td>\n",
       "      <td>0.319809</td>\n",
       "      <td>B</td>\n",
       "      <td>B</td>\n",
       "      <td>25</td>\n",
       "      <td>4756</td>\n",
       "      <td>16</td>\n",
       "      <td>2857.0</td>\n",
       "      <td>5</td>\n",
       "      <td>8</td>\n",
       "      <td>B</td>\n",
       "      <td>243028.603096</td>\n",
       "    </tr>\n",
       "    <tr>\n",
       "      <th>1497</th>\n",
       "      <td>10814</td>\n",
       "      <td>109</td>\n",
       "      <td>1.0</td>\n",
       "      <td>37.265070</td>\n",
       "      <td>20.239714</td>\n",
       "      <td>9.0</td>\n",
       "      <td>9</td>\n",
       "      <td>12.0</td>\n",
       "      <td>20052011</td>\n",
       "      <td>0.136330</td>\n",
       "      <td>B</td>\n",
       "      <td>B</td>\n",
       "      <td>30</td>\n",
       "      <td>6141</td>\n",
       "      <td>10</td>\n",
       "      <td>262.0</td>\n",
       "      <td>3</td>\n",
       "      <td>6</td>\n",
       "      <td>B</td>\n",
       "      <td>254084.534396</td>\n",
       "    </tr>\n",
       "  </tbody>\n",
       "</table>\n",
       "</div>"
      ],
      "text/plain": [
       "         id  districtid  rooms     square  lifesquare  kitchensquare  floor  \\\n",
       "4189  11607         147    2.0  44.791836   28.360393            5.0      4   \n",
       "1497  10814         109    1.0  37.265070   20.239714            9.0      9   \n",
       "\n",
       "      housefloor  houseyear  ecology_1 ecology_2 ecology_3  social_1  \\\n",
       "4189         9.0       4968   0.319809         B         B        25   \n",
       "1497        12.0   20052011   0.136330         B         B        30   \n",
       "\n",
       "      social_2  social_3  healthcare_1  helthcare_2  shops_1 shops_2  \\\n",
       "4189      4756        16        2857.0            5        8       B   \n",
       "1497      6141        10         262.0            3        6       B   \n",
       "\n",
       "              price  \n",
       "4189  243028.603096  \n",
       "1497  254084.534396  "
      ]
     },
     "execution_count": 480,
     "metadata": {},
     "output_type": "execute_result"
    }
   ],
   "source": [
    "train.loc[train['houseyear'] > 2020]"
   ]
  },
  {
   "cell_type": "code",
   "execution_count": 481,
   "metadata": {},
   "outputs": [],
   "source": [
    "train.loc[train['id'] == 11607, 'houseyear'] = 1968\n",
    "train.loc[train['id'] == 10814, 'houseyear'] = 2011"
   ]
  },
  {
   "cell_type": "markdown",
   "metadata": {},
   "source": [
    "### Функции правки некорректных данных и заполнения пропущенных значений."
   ]
  },
  {
   "cell_type": "code",
   "execution_count": 482,
   "metadata": {},
   "outputs": [],
   "source": [
    "def fill_room(train, df):\n",
    "    \n",
    "    med = train['rooms'].median()\n",
    "    \n",
    "    df.loc[df['rooms'] > 6, 'rooms'] = med\n",
    "    df.loc[df['rooms'] < 1, 'rooms'] = med\n",
    "    \n",
    "    return df"
   ]
  },
  {
   "cell_type": "code",
   "execution_count": 483,
   "metadata": {},
   "outputs": [],
   "source": [
    "def fill_square(train, df):\n",
    "    \n",
    "    med = train['square'].median()\n",
    "    \n",
    "    df.loc[df['square'] > 250, 'square'] = med\n",
    "    df.loc[df['square'] < 15, 'square'] = med\n",
    "    \n",
    "    return df"
   ]
  },
  {
   "cell_type": "code",
   "execution_count": 484,
   "metadata": {},
   "outputs": [],
   "source": [
    "def norm_year(df):\n",
    "    \n",
    "    df.loc[df['houseyear'] > 2020] = 2020\n",
    "    \n",
    "    return df"
   ]
  },
  {
   "cell_type": "code",
   "execution_count": 485,
   "metadata": {},
   "outputs": [],
   "source": [
    "def norm_floor(train, df):\n",
    "    \n",
    "    df.loc[df['floor'] == 0, 'floor'] = 1\n",
    "    df.loc[df['housefloor'] == 0, 'housefloor'] = train['housefloor'].median()\n",
    "    df.loc[df['housefloor'] > 40, 'housefloor'] = 40\n",
    "    df.loc[df['floor'] > 40, 'floor'] = df['housefloor']\n",
    "    df.loc[df['housefloor'] < df['floor'], 'housefloor'] = df['floor']\n",
    "    \n",
    "    return df"
   ]
  },
  {
   "cell_type": "code",
   "execution_count": 486,
   "metadata": {},
   "outputs": [],
   "source": [
    "def fill_kitchen(train, df):\n",
    "    \n",
    "    med = train['kitchensquare'].median()\n",
    "    \n",
    "    df.loc[df['kitchensquare'] < 5, 'kitchensquare'] = med\n",
    "    \n",
    "    return df"
   ]
  },
  {
   "cell_type": "code",
   "execution_count": 487,
   "metadata": {},
   "outputs": [],
   "source": [
    "def fill_healthcare(train, df):\n",
    "\n",
    "    med = train['healthcare_1'].median()\n",
    "    \n",
    "    df['healthcare_1'] = df['healthcare_1'].fillna(med)\n",
    "    \n",
    "    return df"
   ]
  },
  {
   "cell_type": "code",
   "execution_count": 488,
   "metadata": {},
   "outputs": [],
   "source": [
    "def fill_lifesquare(train, df):\n",
    "    \n",
    "    med = train.groupby('rooms')['lifesquare'].median().to_dict()   \n",
    "    \n",
    "    for key, val in med.items():\n",
    "        \n",
    "        df.loc[(df['lifesquare'].isnull() == True) & (df['rooms'] == key), 'lifesquare'] = val\n",
    "        \n",
    "    df['lifesquare'] = df['lifesquare'].fillna(0)\n",
    "        \n",
    "    return df"
   ]
  },
  {
   "cell_type": "code",
   "execution_count": 489,
   "metadata": {},
   "outputs": [],
   "source": [
    "# t_cor = train.corr()\n",
    "\n",
    "# t_cor['price'].sort_values(ascending=False)"
   ]
  },
  {
   "cell_type": "markdown",
   "metadata": {},
   "source": [
    "### Замена категориальных признаков на числовые"
   ]
  },
  {
   "cell_type": "code",
   "execution_count": 490,
   "metadata": {},
   "outputs": [],
   "source": [
    "def get_cat(df):\n",
    "\n",
    "    df['ecology_2'] = (df['ecology_2'] == 'B').astype(int)\n",
    "    df['ecology_3'] = (df['ecology_3'] == 'B').astype(int)\n",
    "    df['shops_2'] = (df['shops_2'] == 'B').astype(int)\n",
    "\n",
    "    return df"
   ]
  },
  {
   "cell_type": "markdown",
   "metadata": {},
   "source": [
    "###  Добавление новых признаков"
   ]
  },
  {
   "cell_type": "code",
   "execution_count": 491,
   "metadata": {},
   "outputs": [],
   "source": [
    "def med_room_price(train, df):\n",
    "    \n",
    "    med = train.groupby('districtid').apply(lambda x: x['price'].mean() / x['rooms'].mean()).to_dict()\n",
    "    \n",
    "    for key, val in med.items():\n",
    "        \n",
    "        df.loc[df['districtid'] == key, 'med_room_price'] = val\n",
    "        \n",
    "    df['med_room_price'] = df['med_room_price'].fillna(med)\n",
    "    \n",
    "    return df"
   ]
  },
  {
   "cell_type": "code",
   "execution_count": 492,
   "metadata": {},
   "outputs": [],
   "source": [
    "def med_m2_price(train, df):\n",
    "    \n",
    "    med = train.groupby('districtid').apply(lambda x: x['price'].median() / x['square'].median()).to_dict()   \n",
    "    \n",
    "    for key, val in med.items():\n",
    "        \n",
    "        df.loc[df['districtid'] == key, 'med_m2_price'] = val\n",
    "        \n",
    "    df['med_m2_price'] = df['med_m2_price'].fillna(med)\n",
    "    \n",
    "    return df"
   ]
  },
  {
   "cell_type": "code",
   "execution_count": 493,
   "metadata": {},
   "outputs": [],
   "source": [
    "def distr_dens(train, df):\n",
    "    \n",
    "    dens = train['districtid'].value_counts().to_dict()\n",
    "    \n",
    "    for key, val in dens.items():\n",
    "        \n",
    "        df.loc[df['districtid'] == key, 'distr_dens'] = val\n",
    "        \n",
    "    df['distr_dens'] = df['distr_dens'].fillna(0)\n",
    "    \n",
    "    return df"
   ]
  },
  {
   "cell_type": "markdown",
   "metadata": {},
   "source": [
    "#### Общие функции подготовки данных"
   ]
  },
  {
   "cell_type": "code",
   "execution_count": 494,
   "metadata": {},
   "outputs": [],
   "source": [
    "def norm_feats(train, df):\n",
    "\n",
    "    df = norm_year(df)\n",
    "    df = norm_floor(train, df)\n",
    "    \n",
    "    return df"
   ]
  },
  {
   "cell_type": "code",
   "execution_count": 495,
   "metadata": {},
   "outputs": [],
   "source": [
    "def fill_data(train, df):\n",
    "    \n",
    "    df = fill_room(train, df)\n",
    "    df = fill_square(train, df)\n",
    "    df = fill_kitchen(train, df)\n",
    "    df = fill_healthcare(train, df)\n",
    "    df = fill_lifesquare(train, df)\n",
    "    \n",
    "    return df"
   ]
  },
  {
   "cell_type": "code",
   "execution_count": 496,
   "metadata": {},
   "outputs": [],
   "source": [
    "def add_feats(train, df):\n",
    "    \n",
    "    \n",
    "    df = med_room_price(train, df)\n",
    "    df = med_m2_price(train, df)\n",
    "    df = distr_dens(train, df)\n",
    "    \n",
    "    return df"
   ]
  },
  {
   "cell_type": "markdown",
   "metadata": {},
   "source": [
    "### Применение функций корректировки данных"
   ]
  },
  {
   "cell_type": "markdown",
   "metadata": {},
   "source": [
    "#### для train"
   ]
  },
  {
   "cell_type": "code",
   "execution_count": 497,
   "metadata": {},
   "outputs": [],
   "source": [
    "train = get_cat(train)"
   ]
  },
  {
   "cell_type": "code",
   "execution_count": 498,
   "metadata": {},
   "outputs": [],
   "source": [
    "train = norm_feats(train, train)"
   ]
  },
  {
   "cell_type": "code",
   "execution_count": 499,
   "metadata": {},
   "outputs": [],
   "source": [
    "train = fill_data(train, train)"
   ]
  },
  {
   "cell_type": "code",
   "execution_count": 500,
   "metadata": {},
   "outputs": [],
   "source": [
    "train = add_feats(train, train)"
   ]
  },
  {
   "cell_type": "code",
   "execution_count": 501,
   "metadata": {},
   "outputs": [],
   "source": [
    "train = train.fillna(0)"
   ]
  },
  {
   "cell_type": "markdown",
   "metadata": {},
   "source": [
    "#### для valid"
   ]
  },
  {
   "cell_type": "code",
   "execution_count": 502,
   "metadata": {},
   "outputs": [],
   "source": [
    "valid = get_cat(valid)"
   ]
  },
  {
   "cell_type": "code",
   "execution_count": 503,
   "metadata": {},
   "outputs": [],
   "source": [
    "valid = norm_feats(train, valid)"
   ]
  },
  {
   "cell_type": "code",
   "execution_count": 504,
   "metadata": {},
   "outputs": [],
   "source": [
    "valid = fill_data(train, valid)"
   ]
  },
  {
   "cell_type": "code",
   "execution_count": 505,
   "metadata": {},
   "outputs": [],
   "source": [
    "valid = add_feats(train, valid)"
   ]
  },
  {
   "cell_type": "code",
   "execution_count": 506,
   "metadata": {},
   "outputs": [],
   "source": [
    "valid = valid.fillna(0)"
   ]
  },
  {
   "cell_type": "markdown",
   "metadata": {},
   "source": [
    "#### для test"
   ]
  },
  {
   "cell_type": "code",
   "execution_count": 507,
   "metadata": {},
   "outputs": [],
   "source": [
    "test = get_cat(test)"
   ]
  },
  {
   "cell_type": "code",
   "execution_count": 508,
   "metadata": {},
   "outputs": [],
   "source": [
    "test = norm_feats(train, test)"
   ]
  },
  {
   "cell_type": "code",
   "execution_count": 509,
   "metadata": {},
   "outputs": [],
   "source": [
    "test = fill_data(train, test)"
   ]
  },
  {
   "cell_type": "code",
   "execution_count": 510,
   "metadata": {},
   "outputs": [],
   "source": [
    "test = add_feats(train, test)"
   ]
  },
  {
   "cell_type": "code",
   "execution_count": 511,
   "metadata": {},
   "outputs": [],
   "source": [
    "test = test.fillna(0)"
   ]
  },
  {
   "cell_type": "markdown",
   "metadata": {},
   "source": [
    "### Построение модели"
   ]
  },
  {
   "cell_type": "code",
   "execution_count": 512,
   "metadata": {},
   "outputs": [],
   "source": [
    "from sklearn.ensemble import RandomForestRegressor as RFR\n",
    "from sklearn.metrics import r2_score as r2"
   ]
  },
  {
   "cell_type": "code",
   "execution_count": 513,
   "metadata": {},
   "outputs": [],
   "source": [
    "model = RFR(n_estimators=1000, max_depth=14, random_state=42, max_features=6)"
   ]
  },
  {
   "cell_type": "code",
   "execution_count": 514,
   "metadata": {},
   "outputs": [],
   "source": [
    "feats = ['id', 'districtid', 'rooms', 'square', 'lifesquare', 'kitchensquare',\n",
    "       'floor', 'housefloor', 'houseyear', 'ecology_1', 'social_1', 'social_2', 'social_3', 'healthcare_1',\n",
    "       'helthcare_2', 'shops_1','med_m2_price', 'distr_dens']"
   ]
  },
  {
   "cell_type": "markdown",
   "metadata": {},
   "source": [
    "####  Gridsearch"
   ]
  },
  {
   "cell_type": "code",
   "execution_count": 515,
   "metadata": {},
   "outputs": [],
   "source": [
    "# params = [{'n_estimators':[200, 250, 300], \n",
    "#           'max_features': [3, 4, 5, 6],\n",
    "#           'max_depth':[10, 14, 16, 20]}]"
   ]
  },
  {
   "cell_type": "code",
   "execution_count": 516,
   "metadata": {},
   "outputs": [],
   "source": [
    "# grid = GridSearchCV(estimator=RFR(random_state=42),\n",
    "#                    param_grid=params,\n",
    "#                    scoring='r2',\n",
    "#                    cv=5)"
   ]
  },
  {
   "cell_type": "code",
   "execution_count": 517,
   "metadata": {
    "scrolled": true
   },
   "outputs": [],
   "source": [
    "# grid.fit(train.loc[:, feats], train['price'])"
   ]
  },
  {
   "cell_type": "code",
   "execution_count": 518,
   "metadata": {},
   "outputs": [],
   "source": [
    "# grid.best_params_"
   ]
  },
  {
   "cell_type": "code",
   "execution_count": 519,
   "metadata": {},
   "outputs": [],
   "source": [
    "# grid.best_score_"
   ]
  },
  {
   "cell_type": "markdown",
   "metadata": {},
   "source": [
    "#### forest"
   ]
  },
  {
   "cell_type": "code",
   "execution_count": 520,
   "metadata": {},
   "outputs": [
    {
     "data": {
      "text/plain": [
       "RandomForestRegressor(bootstrap=True, criterion='mse', max_depth=14,\n",
       "           max_features=6, max_leaf_nodes=None, min_impurity_decrease=0.0,\n",
       "           min_impurity_split=None, min_samples_leaf=1,\n",
       "           min_samples_split=2, min_weight_fraction_leaf=0.0,\n",
       "           n_estimators=1000, n_jobs=None, oob_score=False,\n",
       "           random_state=42, verbose=0, warm_start=False)"
      ]
     },
     "execution_count": 520,
     "metadata": {},
     "output_type": "execute_result"
    }
   ],
   "source": [
    "model.fit(train.loc[:, feats], train['price'])"
   ]
  },
  {
   "cell_type": "code",
   "execution_count": 521,
   "metadata": {},
   "outputs": [],
   "source": [
    "train_pred = model.predict(train.loc[:, feats])"
   ]
  },
  {
   "cell_type": "code",
   "execution_count": 522,
   "metadata": {
    "scrolled": true
   },
   "outputs": [
    {
     "data": {
      "text/plain": [
       "0.9437072257925827"
      ]
     },
     "execution_count": 522,
     "metadata": {},
     "output_type": "execute_result"
    }
   ],
   "source": [
    "r2(train['price'], train_pred)"
   ]
  },
  {
   "cell_type": "code",
   "execution_count": 523,
   "metadata": {},
   "outputs": [],
   "source": [
    "valid_pred = model.predict(valid.loc[:, feats])"
   ]
  },
  {
   "cell_type": "code",
   "execution_count": 524,
   "metadata": {
    "scrolled": true
   },
   "outputs": [
    {
     "data": {
      "text/plain": [
       "0.7308907234955979"
      ]
     },
     "execution_count": 524,
     "metadata": {},
     "output_type": "execute_result"
    }
   ],
   "source": [
    "r2(valid['price'], valid_pred)"
   ]
  },
  {
   "cell_type": "code",
   "execution_count": 525,
   "metadata": {},
   "outputs": [],
   "source": [
    "test['price'] = model.predict(test.loc[:, feats])"
   ]
  },
  {
   "cell_type": "markdown",
   "metadata": {},
   "source": [
    "####  Переименование price и id "
   ]
  },
  {
   "cell_type": "code",
   "execution_count": 526,
   "metadata": {},
   "outputs": [],
   "source": [
    "test = upperrcase_cols(test)"
   ]
  },
  {
   "cell_type": "markdown",
   "metadata": {},
   "source": [
    "#### Сохранение целевой переменной"
   ]
  },
  {
   "cell_type": "code",
   "execution_count": 529,
   "metadata": {},
   "outputs": [],
   "source": [
    " test.loc[:, ['Id', 'Price']].to_csv('AEvdokimov_predictions.csv', index=None)"
   ]
  }
 ],
 "metadata": {
  "kernelspec": {
   "display_name": "Python 3",
   "language": "python",
   "name": "python3"
  },
  "language_info": {
   "codemirror_mode": {
    "name": "ipython",
    "version": 3
   },
   "file_extension": ".py",
   "mimetype": "text/x-python",
   "name": "python",
   "nbconvert_exporter": "python",
   "pygments_lexer": "ipython3",
   "version": "3.7.1"
  }
 },
 "nbformat": 4,
 "nbformat_minor": 2
}
